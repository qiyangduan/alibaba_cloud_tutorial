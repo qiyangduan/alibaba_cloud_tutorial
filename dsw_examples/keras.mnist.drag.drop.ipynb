{
 "cells": [
  {
   "cell_type": "code",
   "execution_count": null,
   "metadata": {
    "uuid": "7c30fd23-97e1-4a9b-9ddc-bac235a30d80"
   },
   "outputs": [],
   "source": [
    "# This example is taken from:\n",
    "# https://keras.io/examples/mnist_cnn/"
   ]
  },
  {
   "cell_type": "code",
   "execution_count": 7,
   "metadata": {
    "uuid": "7eb51504-cee1-4534-8f39-1117edf8a96b"
   },
   "outputs": [],
   "source": [
    "\n",
    "from __future__ import print_function\n",
    "import keras\n",
    "from keras.datasets import mnist\n",
    "from keras.models import Sequential\n",
    "from keras.layers import Dense, Dropout, Flatten\n",
    "from keras.layers import Conv2D, MaxPooling2D\n",
    "from keras import backend as K\n",
    "\n",
    "batch_size = 128\n",
    "num_classes = 10\n",
    "epochs = 12\n",
    "\n",
    "# input image dimensions\n",
    "img_rows, img_cols = 28, 28\n",
    "\n",
    "# the data, split between train and test sets\n",
    "(x_train, y_train), (x_test, y_test) = mnist.load_data()\n"
   ]
  },
  {
   "cell_type": "code",
   "execution_count": 8,
   "metadata": {
    "uuid": "a63f701d-5450-4663-8b2c-92e688f570b8"
   },
   "outputs": [
    {
     "name": "stdout",
     "output_type": "stream",
     "text": [
      "x_train shape: (60000, 28, 28, 1)\n",
      "60000 train samples\n",
      "10000 test samples\n"
     ]
    }
   ],
   "source": [
    "\n",
    "if K.image_data_format() == 'channels_first':\n",
    "    x_train = x_train.reshape(x_train.shape[0], 1, img_rows, img_cols)\n",
    "    x_test = x_test.reshape(x_test.shape[0], 1, img_rows, img_cols)\n",
    "    input_shape = (1, img_rows, img_cols)\n",
    "else:\n",
    "    x_train = x_train.reshape(x_train.shape[0], img_rows, img_cols, 1)\n",
    "    x_test = x_test.reshape(x_test.shape[0], img_rows, img_cols, 1)\n",
    "    input_shape = (img_rows, img_cols, 1)\n",
    "\n",
    "x_train = x_train.astype('float32')\n",
    "x_test = x_test.astype('float32')\n",
    "x_train /= 255\n",
    "x_test /= 255\n",
    "print('x_train shape:', x_train.shape)\n",
    "print(x_train.shape[0], 'train samples')\n",
    "print(x_test.shape[0], 'test samples')\n",
    "\n",
    "# convert class vectors to binary class matrices\n",
    "y_train = keras.utils.to_categorical(y_train, num_classes)\n",
    "y_test = keras.utils.to_categorical(y_test, num_classes)\n",
    "\n",
    "model = Sequential()\n",
    "model.add(Conv2D(32, kernel_size=(3, 3),\n",
    "                 activation='relu',\n",
    "                 input_shape=input_shape))\n",
    "model.add(Conv2D(64, (3, 3), activation='relu'))\n",
    "model.add(MaxPooling2D(pool_size=(2, 2)))\n",
    "model.add(Dropout(0.25))\n",
    "model.add(Flatten())\n",
    "model.add(Dense(128, activation='relu'))\n",
    "model.add(Dropout(0.5))\n",
    "model.add(Dense(num_classes, activation='softmax'))\n",
    "\n",
    "model.compile(loss=keras.losses.categorical_crossentropy,\n",
    "              optimizer=keras.optimizers.Adadelta(),\n",
    "              metrics=['accuracy'])\n",
    "\n"
   ]
  },
  {
   "cell_type": "code",
   "execution_count": 9,
   "metadata": {
    "uuid": "2b00c4c4-2694-4414-87af-3ba978b18799"
   },
   "outputs": [
    {
     "data": {
      "application/dsw+json": {
       "graph": {
        "edges": [
         {
          "id": 1,
          "label": "",
          "properties": {},
          "shape": {
           "fill": "",
           "type": ""
          },
          "source": "86492f3c-5d74-4b23-9ca1-2eeaa0cf6452",
          "sourceAnchor": 1,
          "target": "70f11779-248e-427f-ab91-56c3f0603e64",
          "targetAnchor": 0
         },
         {
          "id": 2,
          "label": "",
          "properties": {},
          "shape": {
           "fill": "",
           "type": ""
          },
          "source": "70f11779-248e-427f-ab91-56c3f0603e64",
          "sourceAnchor": 1,
          "target": "e29f57d8-5600-41bc-b315-39f95e7f9053",
          "targetAnchor": 0
         },
         {
          "id": 3,
          "label": "",
          "properties": {},
          "shape": {
           "fill": "",
           "type": ""
          },
          "source": "e29f57d8-5600-41bc-b315-39f95e7f9053",
          "sourceAnchor": 1,
          "target": "5f48556b-d9e5-4496-b9bb-a29172ffc841",
          "targetAnchor": 0
         },
         {
          "id": 4,
          "label": "",
          "properties": {},
          "shape": {
           "fill": "",
           "type": ""
          },
          "source": "5f48556b-d9e5-4496-b9bb-a29172ffc841",
          "sourceAnchor": 1,
          "target": "f9e4ab0a-55be-4889-bd3f-67266345c819",
          "targetAnchor": 0
         },
         {
          "id": 5,
          "label": "",
          "properties": {},
          "shape": {
           "fill": "",
           "type": ""
          },
          "source": "f9e4ab0a-55be-4889-bd3f-67266345c819",
          "sourceAnchor": 1,
          "target": "d236635f-98ff-41ff-ae8f-2208a2adaba3",
          "targetAnchor": 0
         },
         {
          "id": 6,
          "label": "",
          "properties": {},
          "shape": {
           "fill": "",
           "type": ""
          },
          "source": "d236635f-98ff-41ff-ae8f-2208a2adaba3",
          "sourceAnchor": 1,
          "target": "6d984324-38e7-4175-84a1-f6e0fd7d8907",
          "targetAnchor": 0
         },
         {
          "id": 7,
          "label": "",
          "properties": {},
          "shape": {
           "fill": "",
           "type": ""
          },
          "source": "6d984324-38e7-4175-84a1-f6e0fd7d8907",
          "sourceAnchor": 1,
          "target": "bab14423-e6d8-4663-b010-413ab62b2df6",
          "targetAnchor": 0
         }
        ],
        "groups": [],
        "nodes": [
         {
          "id": "86492f3c-5d74-4b23-9ca1-2eeaa0cf6452",
          "label": "conv2d_5",
          "parent": "",
          "properties": [
           {
            "meta": "",
            "name": "name",
            "value": "'conv2d_5'"
           },
           {
            "meta": "",
            "name": "trainable",
            "value": "True"
           },
           {
            "meta": "",
            "name": "batch_input_shape",
            "value": "[None, 28, 28, 1]"
           },
           {
            "meta": "",
            "name": "dtype",
            "value": "'float32'"
           },
           {
            "meta": "",
            "name": "filters",
            "value": "32"
           },
           {
            "meta": "",
            "name": "kernel_size",
            "value": "[3, 3]"
           },
           {
            "meta": "",
            "name": "strides",
            "value": "[1, 1]"
           },
           {
            "meta": "",
            "name": "padding",
            "value": "'valid'"
           },
           {
            "meta": "",
            "name": "data_format",
            "value": "'channels_last'"
           },
           {
            "meta": "",
            "name": "dilation_rate",
            "value": "[1, 1]"
           },
           {
            "meta": "",
            "name": "activation",
            "value": "'relu'"
           },
           {
            "meta": "",
            "name": "use_bias",
            "value": "True"
           },
           {
            "meta": "",
            "name": "kernel_initializer",
            "value": "{\"class_name\": \"VarianceScaling\", \"config\": {\"scale\": 1.0, \"mode\": \"fan_avg\", \"distribution\": \"uniform\", \"seed\": null}}"
           },
           {
            "meta": "",
            "name": "bias_initializer",
            "value": "{\"class_name\": \"Zeros\", \"config\": {}}"
           },
           {
            "meta": "",
            "name": "kernel_regularizer",
            "value": "None"
           },
           {
            "meta": "",
            "name": "bias_regularizer",
            "value": "None"
           },
           {
            "meta": "",
            "name": "activity_regularizer",
            "value": "None"
           },
           {
            "meta": "",
            "name": "kernel_constraint",
            "value": "None"
           },
           {
            "meta": "",
            "name": "bias_constraint",
            "value": "None"
           },
           {
            "meta": "",
            "name": "layer_id",
            "value": "4db5ba15-7f9f-4bcc-a23c-32c02e8c1e6b"
           }
          ],
          "shape": {
           "anchor": [],
           "height": 0,
           "type": "",
           "width": 0,
           "x": 0,
           "y": 0
          },
          "type": "Conv2D"
         },
         {
          "id": "70f11779-248e-427f-ab91-56c3f0603e64",
          "label": "conv2d_6",
          "parent": "",
          "properties": [
           {
            "meta": "",
            "name": "name",
            "value": "'conv2d_6'"
           },
           {
            "meta": "",
            "name": "trainable",
            "value": "True"
           },
           {
            "meta": "",
            "name": "filters",
            "value": "64"
           },
           {
            "meta": "",
            "name": "kernel_size",
            "value": "[3, 3]"
           },
           {
            "meta": "",
            "name": "strides",
            "value": "[1, 1]"
           },
           {
            "meta": "",
            "name": "padding",
            "value": "'valid'"
           },
           {
            "meta": "",
            "name": "data_format",
            "value": "'channels_last'"
           },
           {
            "meta": "",
            "name": "dilation_rate",
            "value": "[1, 1]"
           },
           {
            "meta": "",
            "name": "activation",
            "value": "'relu'"
           },
           {
            "meta": "",
            "name": "use_bias",
            "value": "True"
           },
           {
            "meta": "",
            "name": "kernel_initializer",
            "value": "{\"class_name\": \"VarianceScaling\", \"config\": {\"scale\": 1.0, \"mode\": \"fan_avg\", \"distribution\": \"uniform\", \"seed\": null}}"
           },
           {
            "meta": "",
            "name": "bias_initializer",
            "value": "{\"class_name\": \"Zeros\", \"config\": {}}"
           },
           {
            "meta": "",
            "name": "kernel_regularizer",
            "value": "None"
           },
           {
            "meta": "",
            "name": "bias_regularizer",
            "value": "None"
           },
           {
            "meta": "",
            "name": "activity_regularizer",
            "value": "None"
           },
           {
            "meta": "",
            "name": "kernel_constraint",
            "value": "None"
           },
           {
            "meta": "",
            "name": "bias_constraint",
            "value": "None"
           },
           {
            "meta": "",
            "name": "layer_id",
            "value": "dae2c5bb-a3a9-4374-8bf5-08a6e21c27ac"
           }
          ],
          "shape": {
           "anchor": [],
           "height": 0,
           "type": "",
           "width": 0,
           "x": 0,
           "y": 0
          },
          "type": "Conv2D"
         },
         {
          "id": "e29f57d8-5600-41bc-b315-39f95e7f9053",
          "label": "max_pooling2d_3",
          "parent": "",
          "properties": [
           {
            "meta": "",
            "name": "name",
            "value": "'max_pooling2d_3'"
           },
           {
            "meta": "",
            "name": "trainable",
            "value": "True"
           },
           {
            "meta": "",
            "name": "pool_size",
            "value": "[2, 2]"
           },
           {
            "meta": "",
            "name": "padding",
            "value": "'valid'"
           },
           {
            "meta": "",
            "name": "strides",
            "value": "[2, 2]"
           },
           {
            "meta": "",
            "name": "data_format",
            "value": "'channels_last'"
           },
           {
            "meta": "",
            "name": "layer_id",
            "value": "271ff90e-a2dd-43e7-bb35-1b9482d420d8"
           }
          ],
          "shape": {
           "anchor": [],
           "height": 0,
           "type": "",
           "width": 0,
           "x": 0,
           "y": 0
          },
          "type": "MaxPooling2D"
         },
         {
          "id": "5f48556b-d9e5-4496-b9bb-a29172ffc841",
          "label": "dropout_5",
          "parent": "",
          "properties": [
           {
            "meta": "",
            "name": "name",
            "value": "'dropout_5'"
           },
           {
            "meta": "",
            "name": "trainable",
            "value": "True"
           },
           {
            "meta": "",
            "name": "rate",
            "value": "0.25"
           },
           {
            "meta": "",
            "name": "noise_shape",
            "value": "None"
           },
           {
            "meta": "",
            "name": "seed",
            "value": "None"
           },
           {
            "meta": "",
            "name": "layer_id",
            "value": "679d93f7-4477-461d-819a-0d25443d5626"
           }
          ],
          "shape": {
           "anchor": [],
           "height": 0,
           "type": "",
           "width": 0,
           "x": 0,
           "y": 0
          },
          "type": "Dropout"
         },
         {
          "id": "f9e4ab0a-55be-4889-bd3f-67266345c819",
          "label": "flatten_3",
          "parent": "",
          "properties": [
           {
            "meta": "",
            "name": "name",
            "value": "'flatten_3'"
           },
           {
            "meta": "",
            "name": "trainable",
            "value": "True"
           },
           {
            "meta": "",
            "name": "data_format",
            "value": "'channels_last'"
           },
           {
            "meta": "",
            "name": "layer_id",
            "value": "33e03596-a79a-487d-8984-28b8b0d66027"
           }
          ],
          "shape": {
           "anchor": [],
           "height": 0,
           "type": "",
           "width": 0,
           "x": 0,
           "y": 0
          },
          "type": "Flatten"
         },
         {
          "id": "d236635f-98ff-41ff-ae8f-2208a2adaba3",
          "label": "dense_5",
          "parent": "",
          "properties": [
           {
            "meta": "",
            "name": "name",
            "value": "'dense_5'"
           },
           {
            "meta": "",
            "name": "trainable",
            "value": "True"
           },
           {
            "meta": "",
            "name": "units",
            "value": "128"
           },
           {
            "meta": "",
            "name": "activation",
            "value": "'relu'"
           },
           {
            "meta": "",
            "name": "use_bias",
            "value": "True"
           },
           {
            "meta": "",
            "name": "kernel_initializer",
            "value": "{\"class_name\": \"VarianceScaling\", \"config\": {\"scale\": 1.0, \"mode\": \"fan_avg\", \"distribution\": \"uniform\", \"seed\": null}}"
           },
           {
            "meta": "",
            "name": "bias_initializer",
            "value": "{\"class_name\": \"Zeros\", \"config\": {}}"
           },
           {
            "meta": "",
            "name": "kernel_regularizer",
            "value": "None"
           },
           {
            "meta": "",
            "name": "bias_regularizer",
            "value": "None"
           },
           {
            "meta": "",
            "name": "activity_regularizer",
            "value": "None"
           },
           {
            "meta": "",
            "name": "kernel_constraint",
            "value": "None"
           },
           {
            "meta": "",
            "name": "bias_constraint",
            "value": "None"
           },
           {
            "meta": "",
            "name": "layer_id",
            "value": "6ecea033-d0c7-45ca-922d-89af0dde0437"
           }
          ],
          "shape": {
           "anchor": [],
           "height": 0,
           "type": "",
           "width": 0,
           "x": 0,
           "y": 0
          },
          "type": "Dense"
         },
         {
          "id": "6d984324-38e7-4175-84a1-f6e0fd7d8907",
          "label": "dropout_6",
          "parent": "",
          "properties": [
           {
            "meta": "",
            "name": "name",
            "value": "'dropout_6'"
           },
           {
            "meta": "",
            "name": "trainable",
            "value": "True"
           },
           {
            "meta": "",
            "name": "rate",
            "value": "0.5"
           },
           {
            "meta": "",
            "name": "noise_shape",
            "value": "None"
           },
           {
            "meta": "",
            "name": "seed",
            "value": "None"
           },
           {
            "meta": "",
            "name": "layer_id",
            "value": "8c84f253-c8c3-4167-8aa2-79edc3549a15"
           }
          ],
          "shape": {
           "anchor": [],
           "height": 0,
           "type": "",
           "width": 0,
           "x": 0,
           "y": 0
          },
          "type": "Dropout"
         },
         {
          "id": "bab14423-e6d8-4663-b010-413ab62b2df6",
          "label": "dense_6",
          "parent": "",
          "properties": [
           {
            "meta": "",
            "name": "name",
            "value": "'dense_6'"
           },
           {
            "meta": "",
            "name": "trainable",
            "value": "True"
           },
           {
            "meta": "",
            "name": "units",
            "value": "10"
           },
           {
            "meta": "",
            "name": "activation",
            "value": "'softmax'"
           },
           {
            "meta": "",
            "name": "use_bias",
            "value": "True"
           },
           {
            "meta": "",
            "name": "kernel_initializer",
            "value": "{\"class_name\": \"VarianceScaling\", \"config\": {\"scale\": 1.0, \"mode\": \"fan_avg\", \"distribution\": \"uniform\", \"seed\": null}}"
           },
           {
            "meta": "",
            "name": "bias_initializer",
            "value": "{\"class_name\": \"Zeros\", \"config\": {}}"
           },
           {
            "meta": "",
            "name": "kernel_regularizer",
            "value": "None"
           },
           {
            "meta": "",
            "name": "bias_regularizer",
            "value": "None"
           },
           {
            "meta": "",
            "name": "activity_regularizer",
            "value": "None"
           },
           {
            "meta": "",
            "name": "kernel_constraint",
            "value": "None"
           },
           {
            "meta": "",
            "name": "bias_constraint",
            "value": "None"
           },
           {
            "meta": "",
            "name": "layer_id",
            "value": "9179b2c3-632a-4031-9ad2-fe6db4f80f38"
           }
          ],
          "shape": {
           "anchor": [],
           "height": 0,
           "type": "",
           "width": 0,
           "x": 0,
           "y": 0
          },
          "type": "Dense"
         }
        ]
       },
       "layer_line": {
        "code_map": {
         "1": "\nif K.image_data_format() == 'channels_first':\n    x_train = x_train.reshape(x_train.shape[0], 1, img_rows, img_cols)\n    x_test = x_test.reshape(x_test.shape[0], 1, img_rows, img_cols)\n    input_shape = (1, img_rows, img_cols)\nelse:\n    x_train = x_train.reshape(x_train.shape[0], img_rows, img_cols, 1)\n    x_test = x_test.reshape(x_test.shape[0], img_rows, img_cols, 1)\n    input_shape = (img_rows, img_cols, 1)\n\nx_train = x_train.astype('float32')\nx_test = x_test.astype('float32')\nx_train /= 255\nx_test /= 255\nprint('x_train shape:', x_train.shape)\nprint(x_train.shape[0], 'train samples')\nprint(x_test.shape[0], 'test samples')\n\n# convert class vectors to binary class matrices\ny_train = keras.utils.to_categorical(y_train, num_classes)\ny_test = keras.utils.to_categorical(y_test, num_classes)\n\nmodel = Sequential()\nmodel.add(Conv2D(32, kernel_size=(3, 3),\n                 activation='relu',\n                 input_shape=input_shape))\nmodel.add(Conv2D(64, (3, 3), activation='relu'))\nmodel.add(MaxPooling2D(pool_size=(2, 2)))\nmodel.add(Dropout(0.25))\nmodel.add(Flatten())\nmodel.add(Dense(128, activation='relu'))\nmodel.add(Dropout(0.5))\nmodel.add(Dense(num_classes, activation='softmax'))\n\nmodel.compile(loss=keras.losses.categorical_crossentropy,\n              optimizer=keras.optimizers.Adadelta(),\n              metrics=['accuracy'])\n\n"
        },
        "layer_line": {
         "271ff90e-a2dd-43e7-bb35-1b9482d420d8": {
          "code_id": 1,
          "layer_id": "271ff90e-a2dd-43e7-bb35-1b9482d420d8",
          "layer_name": "max_pooling2d_3",
          "line_no": 28
         },
         "33e03596-a79a-487d-8984-28b8b0d66027": {
          "code_id": 1,
          "layer_id": "33e03596-a79a-487d-8984-28b8b0d66027",
          "layer_name": "flatten_3",
          "line_no": 30
         },
         "4db5ba15-7f9f-4bcc-a23c-32c02e8c1e6b": {
          "code_id": 1,
          "layer_id": "4db5ba15-7f9f-4bcc-a23c-32c02e8c1e6b",
          "layer_name": "conv2d_5",
          "line_no": 26
         },
         "679d93f7-4477-461d-819a-0d25443d5626": {
          "code_id": 1,
          "layer_id": "679d93f7-4477-461d-819a-0d25443d5626",
          "layer_name": "dropout_5",
          "line_no": 29
         },
         "6ecea033-d0c7-45ca-922d-89af0dde0437": {
          "code_id": 1,
          "layer_id": "6ecea033-d0c7-45ca-922d-89af0dde0437",
          "layer_name": "dense_5",
          "line_no": 31
         },
         "8c84f253-c8c3-4167-8aa2-79edc3549a15": {
          "code_id": 1,
          "layer_id": "8c84f253-c8c3-4167-8aa2-79edc3549a15",
          "layer_name": "dropout_6",
          "line_no": 32
         },
         "9179b2c3-632a-4031-9ad2-fe6db4f80f38": {
          "code_id": 1,
          "layer_id": "9179b2c3-632a-4031-9ad2-fe6db4f80f38",
          "layer_name": "dense_6",
          "line_no": 33
         },
         "dae2c5bb-a3a9-4374-8bf5-08a6e21c27ac": {
          "code_id": 1,
          "layer_id": "dae2c5bb-a3a9-4374-8bf5-08a6e21c27ac",
          "layer_name": "conv2d_6",
          "line_no": 27
         }
        }
       }
      },
      "text/plain": [
       "<IPython.display.DswJSON object>"
      ]
     },
     "metadata": {
      "application/dsw+json": {
       "expanded": false,
       "root": "root"
      }
     },
     "output_type": "display_data"
    }
   ],
   "source": [
    "%show_model model"
   ]
  },
  {
   "cell_type": "code",
   "execution_count": 6,
   "metadata": {
    "uuid": "6fe5a7ab-1b97-4666-9d52-a5194d5dce1c"
   },
   "outputs": [
    {
     "name": "stdout",
     "output_type": "stream",
     "text": [
      "_________________________________________________________________\n",
      "Layer (type)                 Output Shape              Param #   \n",
      "=================================================================\n",
      "conv2d_3 (Conv2D)            (None, 26, 26, 32)        320       \n",
      "_________________________________________________________________\n",
      "conv2d_4 (Conv2D)            (None, 24, 24, 64)        18496     \n",
      "_________________________________________________________________\n",
      "max_pooling2d_2 (MaxPooling2 (None, 12, 12, 64)        0         \n",
      "_________________________________________________________________\n",
      "dropout_3 (Dropout)          (None, 12, 12, 64)        0         \n",
      "_________________________________________________________________\n",
      "flatten_2 (Flatten)          (None, 9216)              0         \n",
      "_________________________________________________________________\n",
      "dense_3 (Dense)              (None, 128)               1179776   \n",
      "_________________________________________________________________\n",
      "dropout_4 (Dropout)          (None, 128)               0         \n",
      "_________________________________________________________________\n",
      "dense_4 (Dense)              (None, 10)                1290      \n",
      "=================================================================\n",
      "Total params: 1,199,882\n",
      "Trainable params: 1,199,882\n",
      "Non-trainable params: 0\n",
      "_________________________________________________________________\n"
     ]
    }
   ],
   "source": [
    "model.summary()"
   ]
  },
  {
   "cell_type": "code",
   "execution_count": 2,
   "metadata": {
    "uuid": "c543992d-fc24-419c-ab6d-a59e8fd91dfe"
   },
   "outputs": [
    {
     "name": "stdout",
     "output_type": "stream",
     "text": [
      "Train on 60000 samples, validate on 10000 samples\n",
      "Epoch 1/12\n",
      "60000/60000 [==============================] - 8s 128us/step - loss: 0.2744 - acc: 0.9143 - val_loss: 0.0690 - val_acc: 0.9779\n",
      "Epoch 2/12\n",
      "60000/60000 [==============================] - 4s 59us/step - loss: 0.0911 - acc: 0.9732 - val_loss: 0.0426 - val_acc: 0.9858\n",
      "Epoch 3/12\n",
      "60000/60000 [==============================] - 4s 59us/step - loss: 0.0675 - acc: 0.9793 - val_loss: 0.0335 - val_acc: 0.9885\n",
      "Epoch 4/12\n",
      "60000/60000 [==============================] - 4s 59us/step - loss: 0.0566 - acc: 0.9833 - val_loss: 0.0311 - val_acc: 0.9895\n",
      "Epoch 5/12\n",
      "60000/60000 [==============================] - 4s 59us/step - loss: 0.0484 - acc: 0.9851 - val_loss: 0.0324 - val_acc: 0.9892\n",
      "Epoch 6/12\n",
      "60000/60000 [==============================] - 4s 59us/step - loss: 0.0415 - acc: 0.9879 - val_loss: 0.0303 - val_acc: 0.9903\n",
      "Epoch 7/12\n",
      "60000/60000 [==============================] - 4s 59us/step - loss: 0.0376 - acc: 0.9884 - val_loss: 0.0300 - val_acc: 0.9905\n",
      "Epoch 8/12\n",
      "60000/60000 [==============================] - 4s 59us/step - loss: 0.0354 - acc: 0.9892 - val_loss: 0.0287 - val_acc: 0.9902\n",
      "Epoch 9/12\n",
      "60000/60000 [==============================] - 4s 59us/step - loss: 0.0318 - acc: 0.9904 - val_loss: 0.0302 - val_acc: 0.9904\n",
      "Epoch 10/12\n",
      "60000/60000 [==============================] - 4s 59us/step - loss: 0.0292 - acc: 0.9908 - val_loss: 0.0266 - val_acc: 0.9915\n",
      "Epoch 11/12\n",
      "60000/60000 [==============================] - 4s 59us/step - loss: 0.0295 - acc: 0.9912 - val_loss: 0.0274 - val_acc: 0.9915\n",
      "Epoch 12/12\n",
      "60000/60000 [==============================] - 4s 59us/step - loss: 0.0262 - acc: 0.9920 - val_loss: 0.0245 - val_acc: 0.9918\n",
      "Test loss: 0.024489427772440467\n",
      "Test accuracy: 0.9918\n",
      "CPU times: user 58.3 s, sys: 17.5 s, total: 1min 15s\n",
      "Wall time: 47.4 s\n"
     ]
    }
   ],
   "source": [
    "%%time\n",
    "model.fit(x_train, y_train,\n",
    "          batch_size=batch_size,\n",
    "          epochs=epochs,\n",
    "          verbose=1,\n",
    "          validation_data=(x_test, y_test))\n",
    "score = model.evaluate(x_test, y_test, verbose=0)\n",
    "print('Test loss:', score[0])\n",
    "print('Test accuracy:', score[1])"
   ]
  },
  {
   "cell_type": "code",
   "execution_count": null,
   "metadata": {
    "uuid": "25fa31f2-3124-4b31-a46a-fe9dc1e6a5d3"
   },
   "outputs": [
    {
     "name": "stdin",
     "output_type": "stream",
     "text": []
    }
   ],
   "source": [
    "import keras\n",
    "from keras.models import Sequential\n",
    "from keras.layers import Conv2D, Dense, MaxPooling2D, Flatten, Dropout\n",
    "from keras.initializers import VarianceScaling, Zeros\n",
    "\n",
    "model = Sequential()\n",
    "model.add(Conv2D(dilation_rate=(1, 1), padding='valid', data_format='channels_last', bias_initializer=Zeros(), batch_input_shape=(None, 28, 28, 1), dtype='float32', use_bias=True, filters=32, strides=(1, 1), trainable=True, kernel_initializer=VarianceScaling(mode='fan_avg', seed=None, scale=1.0, distribution='uniform'), activation='relu', kernel_size=(3, 3)))\n",
    "model.add(Conv2D(dilation_rate=(1, 1), padding='valid', data_format='channels_last', bias_initializer=Zeros(), use_bias=True, filters=64, strides=(1, 1), trainable=True, kernel_initializer=VarianceScaling(mode='fan_avg', seed=None, scale=1.0, distribution='uniform'), activation='relu', kernel_size=(3, 3)))\n",
    "model.add(MaxPooling2D(padding='valid', data_format='channels_last', pool_size=(2, 2), strides=(2, 2), trainable=True))\n",
    "model.add(Dropout(rate=0.25, trainable=True))\n",
    "model.add(Flatten(data_format='channels_last', trainable=True))\n",
    "model.add(Dense(bias_initializer=Zeros(), use_bias=True, units=256, trainable=True, kernel_initializer=VarianceScaling(mode='fan_avg', seed=None, scale=1.0, distribution='uniform'), activation='relu'))\n",
    "model.add(Dropout(rate=0.5, trainable=True))\n",
    "model.add(Dense(bias_initializer=Zeros(), use_bias=True, units=10, trainable=True, kernel_initializer=VarianceScaling(mode='fan_avg', seed=None, scale=1.0, distribution='uniform'), activation='softmax'))\n",
    "\n"
   ]
  }
 ],
 "metadata": {
  "kernelspec": {
   "display_name": "Keras Code",
   "language": "python",
   "name": "dswipython"
  },
  "language_info": {
   "file_extension": ".py",
   "mimetype": "text/x-python",
   "name": "python"
  }
 },
 "nbformat": 4,
 "nbformat_minor": 2
}
