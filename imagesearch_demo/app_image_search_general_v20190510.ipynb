{
 "cells": [
  {
   "cell_type": "code",
   "execution_count": 28,
   "metadata": {},
   "outputs": [],
   "source": [
    "# credential is setup in a seperate shell : export ... = ...\n",
    "import os\n",
    "accessKeyId= os.environ['accessKeyId']\n",
    "accessKeySecret= os.environ['accessKeySecret']\n"
   ]
  },
  {
   "cell_type": "code",
   "execution_count": 1,
   "metadata": {},
   "outputs": [],
   "source": [
    "\n"
   ]
  },
  {
   "cell_type": "code",
   "execution_count": 30,
   "metadata": {},
   "outputs": [],
   "source": [
    "# this demo show how to do a general search for similar images\\\n",
    "# this demo is setup using python3\n",
    "# Follow demo: https://help.aliyun.com/document_detail/113827.html?spm=a2c4g.11186623.6.583.40b75ee7HFuZP3\n",
    "\n",
    "# setup envionrmnet\n",
    "#! python2 -m pip install aliyun-python-sdk-imagesearch\n",
    "#! python2 -m pip install pillow\n",
    "\n",
    "\n"
   ]
  },
  {
   "cell_type": "code",
   "execution_count": 31,
   "metadata": {},
   "outputs": [],
   "source": [
    "#from IPython.display \n",
    "from PIL import Image\n",
    "from PIL import ImageDraw\n",
    "from PIL import ImageFont\n",
    "from IPython.display import display\n",
    "from IPython.core.display import HTML \n",
    "import json\n",
    "from pprint import pprint\n",
    "import os\n",
    "import time\n",
    "#import md5\n",
    "import hashlib\n",
    "\n",
    "\n",
    "from aliyunsdkcore.profile import region_provider\n",
    "from aliyunsdkcore.client import AcsClient\n",
    "import base64\n",
    "import aliyunsdkimagesearch.request.v20190325.AddImageRequest as AddImageRequest\n",
    "import aliyunsdkimagesearch.request.v20190325.DeleteImageRequest as DeleteImageRequest\n",
    "import aliyunsdkimagesearch.request.v20190325.SearchImageRequest as SearchImageRequest\n",
    "\n",
    "# import ali_config\n",
    "\n",
    "product = \"ImageSearch\"\n",
    "region =   'cn-shanghai' # , ap-southeast-1(sg)\n",
    "\n",
    "\n",
    "domain = 'imagesearch.cn-shanghai.aliyuncs.com' # \n",
    "endpoint = 'imagesearch.cn-shanghai.aliyuncs.com' # \n",
    "\n",
    "instanceName = \"duanimagesearch2\"\n",
    "\n",
    "region_provider.add_endpoint(product, region, domain)\n",
    "client  = AcsClient(accessKeyId, accessKeySecret, region)\n",
    "requestClient = client\n"
   ]
  },
  {
   "cell_type": "code",
   "execution_count": 32,
   "metadata": {},
   "outputs": [],
   "source": [
    "def get_md5(txt):\n",
    "    #return md5.new(txt).digest()\n",
    "    return hashlib.sha224(txt).hexdigest()"
   ]
  },
  {
   "cell_type": "code",
   "execution_count": 33,
   "metadata": {},
   "outputs": [],
   "source": [
    "def image_preview(image_path, box, cate):\n",
    "    #img1 = Image(filename = image_path, width=100, height=100)\n",
    "    img1 = Image.open(image_path)\n",
    "    if box is not None and box != '':\n",
    "        draw = ImageDraw.Draw(img1)\n",
    "        bb = box.split(\",\")\n",
    "        x0 = float(bb[0])\n",
    "        y0 = float(bb[2])\n",
    "        x1 = float(bb[1])\n",
    "        x2 = float(bb[3])\n",
    "        draw.rectangle([(x0, y0), (x1, x2)], outline='red')\n",
    "        if cate is not None and cate != \"\":\n",
    "            draw.text((x0, y0), cate, fill=\"red\")\n",
    "    img = img1\n",
    "    return img"
   ]
  },
  {
   "cell_type": "code",
   "execution_count": 34,
   "metadata": {},
   "outputs": [],
   "source": [
    "def image_preview(image_path, box, cate):\n",
    "    #img1 = Image(filename = image_path, width=100, height=100)\n",
    "    img1 = Image.open(image_path)\n",
    "    if box is not None and box != '':\n",
    "        draw = ImageDraw.Draw(img1)\n",
    "        bb = box.split(\",\")\n",
    "        x0 = float(bb[0])\n",
    "        y0 = float(bb[2])\n",
    "        x1 = float(bb[1])\n",
    "        x2 = float(bb[3])\n",
    "        draw.rectangle([(x0, y0), (x1, x2)], outline='red')\n",
    "        if cate is not None and cate != \"\":\n",
    "            draw.text((x0, y0), cate, fill=\"red\")\n",
    "    img = img1\n",
    "    return img"
   ]
  },
  {
   "cell_type": "code",
   "execution_count": 35,
   "metadata": {},
   "outputs": [],
   "source": [
    "image_name = '1.jpg' # 'tower_rail_aluminum.jpg'\n",
    "image_folder = './image1' # '/Users/qiyang/Documents/qduan/work/projects/Grafton/prod_images'\n",
    "image_path = os.path.abspath(image_folder+'/'+image_name)\n",
    "\n"
   ]
  },
  {
   "cell_type": "markdown",
   "metadata": {},
   "source": [
    "# credential is setup in a seperate shell : export ... = ..."
   ]
  },
  {
   "cell_type": "markdown",
   "metadata": {},
   "source": [
    "# function to upload image into alibaba cloud"
   ]
  },
  {
   "cell_type": "code",
   "execution_count": 36,
   "metadata": {},
   "outputs": [],
   "source": [
    "from aliyunsdkimagesearch.request.v20190325.AddImageRequest import AddImageRequest as AddItemRequest\n",
    "\n",
    "def get_Piccontent_from_file(image_path):\n",
    "    file_object = open(image_path)\n",
    "    file_content = None\n",
    "    try:\n",
    "        file_content1 = file_object.read()\n",
    "        \n",
    "        import base64\n",
    "        file_content = base64.b64encode(file_content1) # ('data to be encoded') \n",
    "        # data = base64.b64decode(encoded)\n",
    " \n",
    "\n",
    "    finally:\n",
    "        file_object.close()\n",
    "        \n",
    "    return file_content\n",
    "        \n",
    "       "
   ]
  },
  {
   "cell_type": "code",
   "execution_count": 37,
   "metadata": {},
   "outputs": [],
   "source": [
    "def image_upload(instanceName, ProductId, image_name, image_path):\n",
    "    # load file \n",
    "    request = AddImageRequest.AddImageRequest()\n",
    "    request.set_endpoint(endpoint)\n",
    "    request.set_InstanceName(instanceName)\n",
    "    request.set_CustomContent(image_path)\n",
    "    request.set_ProductId(ProductId)\n",
    "    request.set_PicName(image_name)\n",
    "    with open(image_path, 'rb') as imgfile:\n",
    "        encoded_pic_content = base64.b64encode(imgfile.read())\n",
    "        request.set_PicContent(encoded_pic_content)\n",
    "    response = client.do_action_with_exception(request)\n",
    "    # print(response)\n",
    "\n",
    "    return response\n"
   ]
  },
  {
   "cell_type": "code",
   "execution_count": 38,
   "metadata": {},
   "outputs": [
    {
     "name": "stdout",
     "output_type": "stream",
     "text": [
      "('/Users/qiyang/Documents/qduan/work/git/temp/AlibabaCloud_ImageSearch_Demo_py2/image1/1.jpg', '{\"PicInfo\":{\"Region\":\"103,196,8,294\",\"CategoryId\":88888888},\"Message\":\"success\",\"RequestId\":\"1FA3FC33-AE81-41AB-A45F-5FB65173560C\",\"Success\":true,\"Code\":0}')\n"
     ]
    }
   ],
   "source": [
    "\n",
    "# test to upload a single image\n",
    "\n",
    "#instanceName = \"testforbcgeneral\"; # e.g. imagesearchtest\n",
    "image_path = os.path.abspath(image_folder+'/'+image_name)\n",
    "result = image_upload( instanceName, image_name, image_name, image_path)\n",
    "print(image_path, result)"
   ]
  },
  {
   "cell_type": "code",
   "execution_count": 39,
   "metadata": {},
   "outputs": [
    {
     "name": "stdout",
     "output_type": "stream",
     "text": [
      "('duanimagesearch2', '3.png', './image1/3.png', '{\"PicInfo\":{\"Region\":\"70,149,3,219\",\"CategoryId\":88888888},\"Message\":\"success\",\"RequestId\":\"E92DC213-CC19-437E-A4C1-DD97E453A601\",\"Success\":true,\"Code\":0}')\n",
      "('duanimagesearch2', '2.jpg', './image1/2.jpg', '{\"PicInfo\":{\"Region\":\"50,168,3,212\",\"CategoryId\":88888888},\"Message\":\"success\",\"RequestId\":\"5AE66646-FA4C-4D6F-BF07-28388A6747BF\",\"Success\":true,\"Code\":0}')\n",
      "('duanimagesearch2', '1.jpg', './image1/1.jpg', '{\"PicInfo\":{\"Region\":\"103,196,8,294\",\"CategoryId\":88888888},\"Message\":\"success\",\"RequestId\":\"E4220F22-BEA3-4DD5-BDED-3350CBD5A873\",\"Success\":true,\"Code\":0}')\n",
      "('duanimagesearch2', 'hanger-2rail.png', './image1/hanger-2rail.png', '{\"PicInfo\":{\"Region\":\"1,766,261,494\",\"CategoryId\":88888888},\"Message\":\"success\",\"RequestId\":\"810E3E3B-37BF-4AB9-AC98-506EDBB2913A\",\"Success\":true,\"Code\":0}')\n"
     ]
    }
   ],
   "source": [
    "# test to upload a list of image\n",
    "\n",
    "import os\n",
    "import time\n",
    "from pprint import pprint\n",
    "\n",
    "\n",
    "images = {}\n",
    "for file in os.listdir(image_folder):\n",
    "    if file.endswith(\".jpg\") or file.endswith(\".png\"):\n",
    "        image_path = os.path.join(image_folder, file)\n",
    "        # print(os.path.abspath(image_path))\n",
    "        images[image_path] = file\n",
    "\n",
    "# pprint(images)\n",
    "\n",
    "for image_path in images:\n",
    "    image_name = images[image_path]\n",
    "    result = image_upload(instanceName, image_name, image_name, image_path)\n",
    "    print(instanceName,  image_name, image_path, result)\n",
    "    time.sleep(1)"
   ]
  },
  {
   "cell_type": "markdown",
   "metadata": {},
   "source": [
    "# function to search for image in alibaba cloud"
   ]
  },
  {
   "cell_type": "code",
   "execution_count": 46,
   "metadata": {
    "scrolled": true
   },
   "outputs": [
    {
     "name": "stdout",
     "output_type": "stream",
     "text": [
      "[\n",
      "  {\n",
      "    \"CategoryId\": 88888888, \n",
      "    \"CustomContent\": \"./image1/1.jpg\", \n",
      "    \"PicName\": \"1.jpg\", \n",
      "    \"ProductId\": \"1.jpg\", \n",
      "    \"SortExprValues\": \"5.37633353624177e+24;0\"\n",
      "  }, \n",
      "  {\n",
      "    \"CategoryId\": 88888888, \n",
      "    \"CustomContent\": \"./image1/3.png\", \n",
      "    \"PicName\": \"3.png\", \n",
      "    \"ProductId\": \"3.png\", \n",
      "    \"SortExprValues\": \"2.87658286094666;233\"\n",
      "  }, \n",
      "  {\n",
      "    \"CategoryId\": 88888888, \n",
      "    \"CustomContent\": \"./image1/hanger-2rail.png\", \n",
      "    \"PicName\": \"hanger-2rail.png\", \n",
      "    \"ProductId\": \"hanger-2rail.png\", \n",
      "    \"SortExprValues\": \"2.66612672805786;255\"\n",
      "  }, \n",
      "  {\n",
      "    \"CategoryId\": 88888888, \n",
      "    \"CustomContent\": \"./image1/2.jpg\", \n",
      "    \"PicName\": \"2.jpg\", \n",
      "    \"ProductId\": \"2.jpg\", \n",
      "    \"SortExprValues\": \"2.60557007789612;262\"\n",
      "  }\n",
      "]\n"
     ]
    }
   ],
   "source": [
    "request = SearchImageRequest.SearchImageRequest()\n",
    "request.set_endpoint('imagesearch.cn-shanghai.aliyuncs.com')\n",
    "request.set_InstanceName(instanceName)\n",
    "# image_path = os.path.abspath(image_folder+'/'+'hanger-2rail.png')\n",
    "image_path = os.path.abspath(image_folder+'/'+'1.jpg')\n",
    " \n",
    "\n",
    "\n",
    "with open(image_path, 'rb') as imgfile:\n",
    "    encoded_pic_content = base64.b64encode(imgfile.read())\n",
    "    request.set_PicContent(encoded_pic_content)\n",
    "response = requestClient.do_action_with_exception(request)\n",
    "# print(response)\n",
    "print( json.dumps(json.loads(response)[\"Auctions\"], sort_keys=True, indent=2) )"
   ]
  },
  {
   "cell_type": "code",
   "execution_count": 44,
   "metadata": {},
   "outputs": [
    {
     "data": {
      "text/plain": [
       "{u'Auctions': [{u'CategoryId': 88888888,\n",
       "   u'CustomContent': u'./image1/hanger-2rail.png',\n",
       "   u'PicName': u'hanger-2rail.png',\n",
       "   u'ProductId': u'hanger-2rail.png',\n",
       "   u'SortExprValues': u'5.37633353624177e+24;0'},\n",
       "  {u'CategoryId': 88888888,\n",
       "   u'CustomContent': u'./image1/1.jpg',\n",
       "   u'PicName': u'1.jpg',\n",
       "   u'ProductId': u'1.jpg',\n",
       "   u'SortExprValues': u'2.66612672805786;255'},\n",
       "  {u'CategoryId': 88888888,\n",
       "   u'CustomContent': u'./image1/3.png',\n",
       "   u'PicName': u'3.png',\n",
       "   u'ProductId': u'3.png',\n",
       "   u'SortExprValues': u'2.58345079421997;278'},\n",
       "  {u'CategoryId': 88888888,\n",
       "   u'CustomContent': u'./image1/2.jpg',\n",
       "   u'PicName': u'2.jpg',\n",
       "   u'ProductId': u'2.jpg',\n",
       "   u'SortExprValues': u'2.549072265625;263'}],\n",
       " u'Code': 0,\n",
       " u'Head': {u'DocsFound': 4, u'DocsReturn': 4, u'SearchTime': 112},\n",
       " u'Msg': u'success',\n",
       " u'PicInfo': {u'AllCategories': [{u'Id': 0, u'Name': u'Tops'},\n",
       "   {u'Id': 1, u'Name': u'Dress'},\n",
       "   {u'Id': 2, u'Name': u'Bottoms'},\n",
       "   {u'Id': 3, u'Name': u'Bag'},\n",
       "   {u'Id': 4, u'Name': u'Shoes'},\n",
       "   {u'Id': 5, u'Name': u'Accessories'},\n",
       "   {u'Id': 6, u'Name': u'Snack'},\n",
       "   {u'Id': 7, u'Name': u'Makeup'},\n",
       "   {u'Id': 8, u'Name': u'Bottle'},\n",
       "   {u'Id': 9, u'Name': u'Furniture'},\n",
       "   {u'Id': 20, u'Name': u'Toy'},\n",
       "   {u'Id': 21, u'Name': u'Underwear'},\n",
       "   {u'Id': 22, u'Name': u'Digital device'},\n",
       "   {u'Id': 88888888, u'Name': u'Other'}],\n",
       "  u'CategoryId': 88888888,\n",
       "  u'Region': u'1,766,261,494'},\n",
       " u'RequestId': u'2803CA28-DF69-4EBE-B2B2-B2DCC1D36A98',\n",
       " u'Success': True}"
      ]
     },
     "execution_count": 44,
     "metadata": {},
     "output_type": "execute_result"
    }
   ],
   "source": [
    "json.loads(response)"
   ]
  },
  {
   "cell_type": "code",
   "execution_count": null,
   "metadata": {},
   "outputs": [],
   "source": []
  },
  {
   "cell_type": "code",
   "execution_count": 47,
   "metadata": {},
   "outputs": [
    {
     "data": {
      "image/png": "[encoded data removed]",
      "text/plain": [
       "<PIL.JpegImagePlugin.JpegImageFile image mode=RGB size=300x300 at 0x11175B690>"
      ]
     },
     "metadata": {},
     "output_type": "display_data"
    }
   ],
   "source": [
    "r = json.loads(response)\n",
    "image_similar_path = r['Auctions'] [0]['CustomContent'] \n",
    "display (image_preview(image_similar_path, '', ''))"
   ]
  },
  {
   "cell_type": "code",
   "execution_count": null,
   "metadata": {},
   "outputs": [],
   "source": []
  },
  {
   "cell_type": "code",
   "execution_count": null,
   "metadata": {
    "scrolled": false
   },
   "outputs": [],
   "source": []
  },
  {
   "cell_type": "code",
   "execution_count": null,
   "metadata": {
    "scrolled": false
   },
   "outputs": [],
   "source": []
  },
  {
   "cell_type": "markdown",
   "metadata": {},
   "source": [
    "# delete images"
   ]
  },
  {
   "cell_type": "code",
   "execution_count": 42,
   "metadata": {},
   "outputs": [
    {
     "name": "stdout",
     "output_type": "stream",
     "text": [
      "{\"Message\":\"success\",\"RequestId\":\"D0F9E46E-46CD-4138-89CF-DDEA9E888E67\",\"Success\":true,\"Code\":0}\n"
     ]
    }
   ],
   "source": [
    "request = DeleteImageRequest.DeleteImageRequest()\n",
    "request.set_endpoint('imagesearch.cn-shanghai.aliyuncs.com')\n",
    "request.set_InstanceName(instanceName)\n",
    "request.set_ProductId(\"1\")\n",
    "response = client.do_action_with_exception(request)\n",
    "print(response)"
   ]
  },
  {
   "cell_type": "code",
   "execution_count": null,
   "metadata": {},
   "outputs": [],
   "source": []
  }
 ],
 "metadata": {
  "kernelspec": {
   "display_name": "Python 3",
   "language": "python",
   "name": "python3"
  },
  "language_info": {
   "codemirror_mode": {
    "name": "ipython",
    "version": 3
   },
   "file_extension": ".py",
   "mimetype": "text/x-python",
   "name": "python",
   "nbconvert_exporter": "python",
   "pygments_lexer": "ipython3",
   "version": "3.7.4"
  }
 },
 "nbformat": 4,
 "nbformat_minor": 2
}
